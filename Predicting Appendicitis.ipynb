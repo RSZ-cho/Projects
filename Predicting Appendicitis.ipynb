{
 "cells": [
  {
   "cell_type": "markdown",
   "metadata": {},
   "source": [
    "<h2>Predicting Appendicitis</h2>"
   ]
  },
  {
   "cell_type": "markdown",
   "metadata": {},
   "source": [
    "Appendicitis is a common issue affecting most of the people . It is an inflammation of the appendix organ at the end of the large intestine. Hence when it gets inflamed, then the disease is called appendicitis. Although the reason for its inflammation is not known, sometimes it can be caused due to blockage of the intestine with bowels due to constipation or due to consumption of vegetable or fruit seeds.The only cure to it is surgically removing the organ. The removal of the organ has no affects on the human working as it is a vestige organ.\n",
    "    <P><B>Problem Statement:</B>To predict from the symptoms of a patient whether he needs surgery or not basically whether he has appendicitis or not\n",
    "     "
   ]
  },
  {
   "cell_type": "code",
   "execution_count": 4,
   "metadata": {},
   "outputs": [],
   "source": [
    "import pandas as pd\n",
    "import pylab as pl\n",
    "import numpy as np\n",
    "import scipy.optimize as opt\n",
    "from sklearn import preprocessing\n",
    "from sklearn.model_selection import train_test_split\n",
    "%matplotlib inline \n",
    "import matplotlib.pyplot as plt"
   ]
  },
  {
   "cell_type": "markdown",
   "metadata": {},
   "source": [
    "<h4>Data Preparation</h4>"
   ]
  },
  {
   "cell_type": "code",
   "execution_count": 5,
   "metadata": {},
   "outputs": [
    {
     "data": {
      "text/html": [
       "<div>\n",
       "<style scoped>\n",
       "    .dataframe tbody tr th:only-of-type {\n",
       "        vertical-align: middle;\n",
       "    }\n",
       "\n",
       "    .dataframe tbody tr th {\n",
       "        vertical-align: top;\n",
       "    }\n",
       "\n",
       "    .dataframe thead th {\n",
       "        text-align: right;\n",
       "    }\n",
       "</style>\n",
       "<table border=\"1\" class=\"dataframe\">\n",
       "  <thead>\n",
       "    <tr style=\"text-align: right;\">\n",
       "      <th></th>\n",
       "      <th>Gender</th>\n",
       "      <th>Age</th>\n",
       "      <th>DrinkWater</th>\n",
       "      <th>Stalefood</th>\n",
       "      <th>UrineCondition</th>\n",
       "      <th>Fever</th>\n",
       "      <th>FeverRuns</th>\n",
       "      <th>Appetite</th>\n",
       "      <th>PassingGas</th>\n",
       "      <th>BellyPain</th>\n",
       "      <th>Abdominalpain</th>\n",
       "      <th>PainQualification</th>\n",
       "      <th>FamilyHistory</th>\n",
       "      <th>Diarrhea</th>\n",
       "      <th>Vomiting</th>\n",
       "      <th>RateOFNausea</th>\n",
       "      <th>MigrationPain</th>\n",
       "      <th>Surgery</th>\n",
       "    </tr>\n",
       "  </thead>\n",
       "  <tbody>\n",
       "    <tr>\n",
       "      <th>0</th>\n",
       "      <td>Female</td>\n",
       "      <td>31 to above</td>\n",
       "      <td>Yes</td>\n",
       "      <td>Yes</td>\n",
       "      <td>Critical</td>\n",
       "      <td>Yes</td>\n",
       "      <td>3 to 5 times</td>\n",
       "      <td>Yes</td>\n",
       "      <td>No</td>\n",
       "      <td>Yes</td>\n",
       "      <td>No</td>\n",
       "      <td>High</td>\n",
       "      <td>None</td>\n",
       "      <td>No</td>\n",
       "      <td>No</td>\n",
       "      <td>Normal</td>\n",
       "      <td>Yes</td>\n",
       "      <td>Yes</td>\n",
       "    </tr>\n",
       "    <tr>\n",
       "      <th>1</th>\n",
       "      <td>Male</td>\n",
       "      <td>31 to above</td>\n",
       "      <td>Yes</td>\n",
       "      <td>No</td>\n",
       "      <td>Normal</td>\n",
       "      <td>Yes</td>\n",
       "      <td>More than above</td>\n",
       "      <td>Yes</td>\n",
       "      <td>No</td>\n",
       "      <td>Yes</td>\n",
       "      <td>Yes</td>\n",
       "      <td>Medium</td>\n",
       "      <td>Brother or Sister</td>\n",
       "      <td>No</td>\n",
       "      <td>Yes</td>\n",
       "      <td>Not tolerable</td>\n",
       "      <td>Yes</td>\n",
       "      <td>Yes</td>\n",
       "    </tr>\n",
       "    <tr>\n",
       "      <th>2</th>\n",
       "      <td>Male</td>\n",
       "      <td>Between 10 to 30</td>\n",
       "      <td>No</td>\n",
       "      <td>Yes</td>\n",
       "      <td>Partial</td>\n",
       "      <td>Yes</td>\n",
       "      <td>3 to 5 times</td>\n",
       "      <td>Yes</td>\n",
       "      <td>No</td>\n",
       "      <td>Yes</td>\n",
       "      <td>Yes</td>\n",
       "      <td>Medium</td>\n",
       "      <td>None</td>\n",
       "      <td>No</td>\n",
       "      <td>Yes</td>\n",
       "      <td>So much</td>\n",
       "      <td>No</td>\n",
       "      <td>Yes</td>\n",
       "    </tr>\n",
       "    <tr>\n",
       "      <th>3</th>\n",
       "      <td>Female</td>\n",
       "      <td>31 to above</td>\n",
       "      <td>Yes</td>\n",
       "      <td>No</td>\n",
       "      <td>Normal</td>\n",
       "      <td>Yes</td>\n",
       "      <td>More than above</td>\n",
       "      <td>Yes</td>\n",
       "      <td>No</td>\n",
       "      <td>Yes</td>\n",
       "      <td>Yes</td>\n",
       "      <td>High</td>\n",
       "      <td>Mother</td>\n",
       "      <td>No</td>\n",
       "      <td>Yes</td>\n",
       "      <td>Little Bit</td>\n",
       "      <td>No</td>\n",
       "      <td>Yes</td>\n",
       "    </tr>\n",
       "    <tr>\n",
       "      <th>4</th>\n",
       "      <td>Female</td>\n",
       "      <td>31 to above</td>\n",
       "      <td>Yes</td>\n",
       "      <td>Yes</td>\n",
       "      <td>Normal</td>\n",
       "      <td>No</td>\n",
       "      <td>3 to 5 times</td>\n",
       "      <td>Yes</td>\n",
       "      <td>No</td>\n",
       "      <td>Yes</td>\n",
       "      <td>No</td>\n",
       "      <td>Medium</td>\n",
       "      <td>Mother Cast</td>\n",
       "      <td>No</td>\n",
       "      <td>Yes</td>\n",
       "      <td>Normal</td>\n",
       "      <td>Yes</td>\n",
       "      <td>Yes</td>\n",
       "    </tr>\n",
       "    <tr>\n",
       "      <th>5</th>\n",
       "      <td>Male</td>\n",
       "      <td>31 to above</td>\n",
       "      <td>No</td>\n",
       "      <td>Yes</td>\n",
       "      <td>Critical</td>\n",
       "      <td>No</td>\n",
       "      <td>More than above</td>\n",
       "      <td>Yes</td>\n",
       "      <td>No</td>\n",
       "      <td>No</td>\n",
       "      <td>Yes</td>\n",
       "      <td>Medium</td>\n",
       "      <td>None</td>\n",
       "      <td>No</td>\n",
       "      <td>No</td>\n",
       "      <td>Little Bit</td>\n",
       "      <td>Yes</td>\n",
       "      <td>Yes</td>\n",
       "    </tr>\n",
       "    <tr>\n",
       "      <th>6</th>\n",
       "      <td>Female</td>\n",
       "      <td>Between 10 to 30</td>\n",
       "      <td>Yes</td>\n",
       "      <td>No</td>\n",
       "      <td>Normal</td>\n",
       "      <td>Yes</td>\n",
       "      <td>Less than 2</td>\n",
       "      <td>No</td>\n",
       "      <td>No</td>\n",
       "      <td>No</td>\n",
       "      <td>Yes</td>\n",
       "      <td>Medium</td>\n",
       "      <td>None</td>\n",
       "      <td>No</td>\n",
       "      <td>No</td>\n",
       "      <td>Little Bit</td>\n",
       "      <td>No</td>\n",
       "      <td>Yes</td>\n",
       "    </tr>\n",
       "    <tr>\n",
       "      <th>7</th>\n",
       "      <td>Female</td>\n",
       "      <td>Between 10 to 30</td>\n",
       "      <td>No</td>\n",
       "      <td>No</td>\n",
       "      <td>Normal</td>\n",
       "      <td>Yes</td>\n",
       "      <td>Less than 2</td>\n",
       "      <td>No</td>\n",
       "      <td>No</td>\n",
       "      <td>Yes</td>\n",
       "      <td>Yes</td>\n",
       "      <td>High</td>\n",
       "      <td>None</td>\n",
       "      <td>Yes</td>\n",
       "      <td>Yes</td>\n",
       "      <td>So much</td>\n",
       "      <td>Yes</td>\n",
       "      <td>Yes</td>\n",
       "    </tr>\n",
       "    <tr>\n",
       "      <th>8</th>\n",
       "      <td>Male</td>\n",
       "      <td>Between 10 to 30</td>\n",
       "      <td>No</td>\n",
       "      <td>Yes</td>\n",
       "      <td>Critical</td>\n",
       "      <td>No</td>\n",
       "      <td>More than above</td>\n",
       "      <td>Yes</td>\n",
       "      <td>No</td>\n",
       "      <td>Yes</td>\n",
       "      <td>Yes</td>\n",
       "      <td>High</td>\n",
       "      <td>None</td>\n",
       "      <td>No</td>\n",
       "      <td>No</td>\n",
       "      <td>Normal</td>\n",
       "      <td>No</td>\n",
       "      <td>Yes</td>\n",
       "    </tr>\n",
       "    <tr>\n",
       "      <th>9</th>\n",
       "      <td>Male</td>\n",
       "      <td>Between 10 to 30</td>\n",
       "      <td>Yes</td>\n",
       "      <td>Yes</td>\n",
       "      <td>Partial</td>\n",
       "      <td>Yes</td>\n",
       "      <td>Less than 2</td>\n",
       "      <td>Yes</td>\n",
       "      <td>No</td>\n",
       "      <td>Yes</td>\n",
       "      <td>No</td>\n",
       "      <td>Low</td>\n",
       "      <td>None</td>\n",
       "      <td>No</td>\n",
       "      <td>No</td>\n",
       "      <td>Little Bit</td>\n",
       "      <td>No</td>\n",
       "      <td>Yes</td>\n",
       "    </tr>\n",
       "  </tbody>\n",
       "</table>\n",
       "</div>"
      ],
      "text/plain": [
       "   Gender               Age DrinkWater Stalefood UrineCondition Fever  \\\n",
       "0  Female       31 to above        Yes       Yes       Critical   Yes   \n",
       "1    Male       31 to above        Yes        No         Normal   Yes   \n",
       "2    Male  Between 10 to 30         No       Yes        Partial   Yes   \n",
       "3  Female       31 to above        Yes        No         Normal   Yes   \n",
       "4  Female       31 to above        Yes       Yes         Normal    No   \n",
       "5    Male       31 to above         No       Yes       Critical    No   \n",
       "6  Female  Between 10 to 30        Yes        No         Normal   Yes   \n",
       "7  Female  Between 10 to 30         No        No         Normal   Yes   \n",
       "8    Male  Between 10 to 30         No       Yes       Critical    No   \n",
       "9    Male  Between 10 to 30        Yes       Yes        Partial   Yes   \n",
       "\n",
       "         FeverRuns Appetite PassingGas BellyPain Abdominalpain  \\\n",
       "0     3 to 5 times      Yes         No       Yes            No   \n",
       "1  More than above      Yes         No       Yes           Yes   \n",
       "2     3 to 5 times      Yes         No       Yes           Yes   \n",
       "3  More than above      Yes         No       Yes           Yes   \n",
       "4     3 to 5 times      Yes         No       Yes            No   \n",
       "5  More than above      Yes         No        No           Yes   \n",
       "6      Less than 2       No         No        No           Yes   \n",
       "7      Less than 2       No         No       Yes           Yes   \n",
       "8  More than above      Yes         No       Yes           Yes   \n",
       "9      Less than 2      Yes         No       Yes            No   \n",
       "\n",
       "  PainQualification      FamilyHistory Diarrhea Vomiting   RateOFNausea  \\\n",
       "0              High               None       No       No         Normal   \n",
       "1            Medium  Brother or Sister       No      Yes  Not tolerable   \n",
       "2            Medium               None       No      Yes        So much   \n",
       "3              High             Mother       No      Yes     Little Bit   \n",
       "4            Medium        Mother Cast       No      Yes         Normal   \n",
       "5            Medium               None       No       No     Little Bit   \n",
       "6            Medium               None       No       No     Little Bit   \n",
       "7              High               None      Yes      Yes        So much   \n",
       "8              High               None       No       No         Normal   \n",
       "9               Low               None       No       No     Little Bit   \n",
       "\n",
       "  MigrationPain Surgery  \n",
       "0           Yes     Yes  \n",
       "1           Yes     Yes  \n",
       "2            No     Yes  \n",
       "3            No     Yes  \n",
       "4           Yes     Yes  \n",
       "5           Yes     Yes  \n",
       "6            No     Yes  \n",
       "7           Yes     Yes  \n",
       "8            No     Yes  \n",
       "9            No     Yes  "
      ]
     },
     "execution_count": 5,
     "metadata": {},
     "output_type": "execute_result"
    }
   ],
   "source": [
    "df=pd.read_csv(\"appendix.csv\")\n",
    "df.head(10)"
   ]
  },
  {
   "cell_type": "code",
   "execution_count": 6,
   "metadata": {},
   "outputs": [
    {
     "data": {
      "text/html": [
       "<div>\n",
       "<style scoped>\n",
       "    .dataframe tbody tr th:only-of-type {\n",
       "        vertical-align: middle;\n",
       "    }\n",
       "\n",
       "    .dataframe tbody tr th {\n",
       "        vertical-align: top;\n",
       "    }\n",
       "\n",
       "    .dataframe thead th {\n",
       "        text-align: right;\n",
       "    }\n",
       "</style>\n",
       "<table border=\"1\" class=\"dataframe\">\n",
       "  <thead>\n",
       "    <tr style=\"text-align: right;\">\n",
       "      <th></th>\n",
       "      <th>Gender</th>\n",
       "      <th>Age</th>\n",
       "      <th>DrinkWater</th>\n",
       "      <th>Stalefood</th>\n",
       "      <th>UrineCondition</th>\n",
       "      <th>Fever</th>\n",
       "      <th>FeverRuns</th>\n",
       "      <th>Appetite</th>\n",
       "      <th>PassingGas</th>\n",
       "      <th>BellyPain</th>\n",
       "      <th>Abdominalpain</th>\n",
       "      <th>PainQualification</th>\n",
       "      <th>FamilyHistory</th>\n",
       "      <th>Diarrhea</th>\n",
       "      <th>Vomiting</th>\n",
       "      <th>RateOFNausea</th>\n",
       "      <th>MigrationPain</th>\n",
       "      <th>Surgery</th>\n",
       "    </tr>\n",
       "  </thead>\n",
       "  <tbody>\n",
       "    <tr>\n",
       "      <th>195</th>\n",
       "      <td>Male</td>\n",
       "      <td>Between 10 to 30</td>\n",
       "      <td>Yes</td>\n",
       "      <td>No</td>\n",
       "      <td>Normal</td>\n",
       "      <td>Yes</td>\n",
       "      <td>None</td>\n",
       "      <td>No</td>\n",
       "      <td>Yes</td>\n",
       "      <td>No</td>\n",
       "      <td>No</td>\n",
       "      <td>None</td>\n",
       "      <td>Mother Cast</td>\n",
       "      <td>No</td>\n",
       "      <td>Yes</td>\n",
       "      <td>None</td>\n",
       "      <td>No</td>\n",
       "      <td>No</td>\n",
       "    </tr>\n",
       "    <tr>\n",
       "      <th>196</th>\n",
       "      <td>Male</td>\n",
       "      <td>Between 10 to 30</td>\n",
       "      <td>No</td>\n",
       "      <td>No</td>\n",
       "      <td>Normal</td>\n",
       "      <td>No</td>\n",
       "      <td>None</td>\n",
       "      <td>No</td>\n",
       "      <td>Yes</td>\n",
       "      <td>No</td>\n",
       "      <td>No</td>\n",
       "      <td>None</td>\n",
       "      <td>Father Cast</td>\n",
       "      <td>No</td>\n",
       "      <td>No</td>\n",
       "      <td>None</td>\n",
       "      <td>No</td>\n",
       "      <td>No</td>\n",
       "    </tr>\n",
       "    <tr>\n",
       "      <th>197</th>\n",
       "      <td>Male</td>\n",
       "      <td>31 to above</td>\n",
       "      <td>Yes</td>\n",
       "      <td>No</td>\n",
       "      <td>Normal</td>\n",
       "      <td>No</td>\n",
       "      <td>None</td>\n",
       "      <td>No</td>\n",
       "      <td>Yes</td>\n",
       "      <td>No</td>\n",
       "      <td>No</td>\n",
       "      <td>None</td>\n",
       "      <td>None</td>\n",
       "      <td>No</td>\n",
       "      <td>No</td>\n",
       "      <td>None</td>\n",
       "      <td>No</td>\n",
       "      <td>No</td>\n",
       "    </tr>\n",
       "    <tr>\n",
       "      <th>198</th>\n",
       "      <td>Female</td>\n",
       "      <td>31 to above</td>\n",
       "      <td>No</td>\n",
       "      <td>No</td>\n",
       "      <td>Normal</td>\n",
       "      <td>Yes</td>\n",
       "      <td>None</td>\n",
       "      <td>No</td>\n",
       "      <td>Yes</td>\n",
       "      <td>No</td>\n",
       "      <td>No</td>\n",
       "      <td>None</td>\n",
       "      <td>Brother or Sister</td>\n",
       "      <td>No</td>\n",
       "      <td>No</td>\n",
       "      <td>None</td>\n",
       "      <td>No</td>\n",
       "      <td>No</td>\n",
       "    </tr>\n",
       "    <tr>\n",
       "      <th>199</th>\n",
       "      <td>Female</td>\n",
       "      <td>Between 1 to 9</td>\n",
       "      <td>No</td>\n",
       "      <td>No</td>\n",
       "      <td>Normal</td>\n",
       "      <td>Yes</td>\n",
       "      <td>None</td>\n",
       "      <td>No</td>\n",
       "      <td>Yes</td>\n",
       "      <td>No</td>\n",
       "      <td>No</td>\n",
       "      <td>None</td>\n",
       "      <td>Brother or Sister</td>\n",
       "      <td>Yes</td>\n",
       "      <td>No</td>\n",
       "      <td>None</td>\n",
       "      <td>No</td>\n",
       "      <td>No</td>\n",
       "    </tr>\n",
       "  </tbody>\n",
       "</table>\n",
       "</div>"
      ],
      "text/plain": [
       "     Gender               Age DrinkWater Stalefood UrineCondition Fever  \\\n",
       "195    Male  Between 10 to 30        Yes        No         Normal   Yes   \n",
       "196    Male  Between 10 to 30         No        No         Normal    No   \n",
       "197    Male       31 to above        Yes        No         Normal    No   \n",
       "198  Female       31 to above         No        No         Normal   Yes   \n",
       "199  Female    Between 1 to 9         No        No         Normal   Yes   \n",
       "\n",
       "    FeverRuns Appetite PassingGas BellyPain Abdominalpain PainQualification  \\\n",
       "195      None       No        Yes        No            No              None   \n",
       "196      None       No        Yes        No            No              None   \n",
       "197      None       No        Yes        No            No              None   \n",
       "198      None       No        Yes        No            No              None   \n",
       "199      None       No        Yes        No            No              None   \n",
       "\n",
       "         FamilyHistory Diarrhea Vomiting RateOFNausea MigrationPain Surgery  \n",
       "195        Mother Cast       No      Yes         None            No      No  \n",
       "196        Father Cast       No       No         None            No      No  \n",
       "197               None       No       No         None            No      No  \n",
       "198  Brother or Sister       No       No         None            No      No  \n",
       "199  Brother or Sister      Yes       No         None            No      No  "
      ]
     },
     "execution_count": 6,
     "metadata": {},
     "output_type": "execute_result"
    }
   ],
   "source": [
    "df.tail()"
   ]
  },
  {
   "cell_type": "code",
   "execution_count": 7,
   "metadata": {},
   "outputs": [
    {
     "data": {
      "text/plain": [
       "(200, 18)"
      ]
     },
     "execution_count": 7,
     "metadata": {},
     "output_type": "execute_result"
    }
   ],
   "source": [
    "df.shape"
   ]
  },
  {
   "cell_type": "markdown",
   "metadata": {},
   "source": [
    "<h4>Training and Testing Data</h4>"
   ]
  },
  {
   "cell_type": "code",
   "execution_count": 8,
   "metadata": {},
   "outputs": [
    {
     "data": {
      "text/plain": [
       "array([['Female', 'Yes', 'Yes', 'Critical', 'Yes', '3 to 5 times', 'Yes',\n",
       "        'No', 'Yes', 'No', 'High', 'No', 'No', 'Normal', 'Yes'],\n",
       "       ['Male', 'Yes', 'No', 'Normal', 'Yes', 'More than above', 'Yes',\n",
       "        'No', 'Yes', 'Yes', 'Medium', 'No', 'Yes', 'Not tolerable',\n",
       "        'Yes'],\n",
       "       ['Male', 'No', 'Yes', 'Partial', 'Yes', '3 to 5 times', 'Yes',\n",
       "        'No', 'Yes', 'Yes', 'Medium', 'No', 'Yes', 'So much', 'No'],\n",
       "       ['Female', 'Yes', 'No', 'Normal', 'Yes', 'More than above', 'Yes',\n",
       "        'No', 'Yes', 'Yes', 'High', 'No', 'Yes', 'Little Bit', 'No'],\n",
       "       ['Female', 'Yes', 'Yes', 'Normal', 'No', '3 to 5 times', 'Yes',\n",
       "        'No', 'Yes', 'No', 'Medium', 'No', 'Yes', 'Normal', 'Yes']],\n",
       "      dtype=object)"
      ]
     },
     "execution_count": 8,
     "metadata": {},
     "output_type": "execute_result"
    }
   ],
   "source": [
    "#Training set\n",
    "X=df[['Gender','DrinkWater','Stalefood','UrineCondition','Fever','FeverRuns','Appetite','PassingGas','BellyPain','Abdominalpain','PainQualification','Diarrhea','Vomiting','RateOFNausea','MigrationPain']].values\n",
    "X[0:5]"
   ]
  },
  {
   "cell_type": "code",
   "execution_count": 9,
   "metadata": {},
   "outputs": [
    {
     "data": {
      "text/plain": [
       "array([[0, 1, 1, 0, 1, 0, 1, 0, 1, 0, 0, 0, 0, 2, 1],\n",
       "       [1, 1, 0, 1, 1, 2, 1, 0, 1, 1, 2, 0, 1, 3, 1],\n",
       "       [1, 0, 1, 2, 1, 0, 1, 0, 1, 1, 2, 0, 1, 4, 0],\n",
       "       [0, 1, 0, 1, 1, 2, 1, 0, 1, 1, 0, 0, 1, 0, 0],\n",
       "       [0, 1, 1, 1, 0, 0, 1, 0, 1, 0, 2, 0, 1, 2, 1]], dtype=object)"
      ]
     },
     "execution_count": 9,
     "metadata": {},
     "output_type": "execute_result"
    }
   ],
   "source": [
    "#converting categorial features to numerical values\n",
    "from sklearn import preprocessing\n",
    "le_gender = preprocessing.LabelEncoder()\n",
    "le_gender.fit(['Female','Male'])\n",
    "X[:,0] = le_gender.transform(X[:,0]) \n",
    "\n",
    "\n",
    "le_drinkwater = preprocessing.LabelEncoder()\n",
    "le_drinkwater.fit(['Yes','No'])\n",
    "X[:,1] = le_drinkwater.transform(X[:,1]) \n",
    "\n",
    "le_stalefood = preprocessing.LabelEncoder()\n",
    "le_stalefood.fit(['Yes','No'])\n",
    "X[:,2] = le_stalefood.transform(X[:,2]) \n",
    "\n",
    "le_urinecondition = preprocessing.LabelEncoder()\n",
    "le_urinecondition.fit(['Normal','Partial','Critical'])\n",
    "X[:,3] = le_urinecondition.transform(X[:,3]) \n",
    "\n",
    "le_fever = preprocessing.LabelEncoder()\n",
    "le_fever.fit(['Yes','No'])\n",
    "X[:,4] = le_fever.transform(X[:,4]) \n",
    "\n",
    "le_feverruns = preprocessing.LabelEncoder()\n",
    "le_feverruns.fit(['None','Less than 2','3 to 5 times','More than above'])\n",
    "X[:,5] = le_feverruns.transform(X[:,5]) \n",
    "\n",
    "le_apetite = preprocessing.LabelEncoder()\n",
    "le_apetite.fit(['Yes','No'])\n",
    "X[:,6] = le_apetite.transform(X[:,6]) \n",
    "\n",
    "le_passinggas = preprocessing.LabelEncoder()\n",
    "le_passinggas.fit(['Yes','No'])\n",
    "X[:,7] = le_stalefood.transform(X[:,7]) \n",
    "\n",
    "le_bellypain = preprocessing.LabelEncoder()\n",
    "le_bellypain.fit(['Yes','No'])\n",
    "X[:,8] = le_bellypain.transform(X[:,8]) \n",
    "\n",
    "le_abdominpain = preprocessing.LabelEncoder()\n",
    "le_abdominpain.fit(['Yes','No'])\n",
    "X[:,9] = le_abdominpain.transform(X[:,9]) \n",
    "\n",
    "le_PainQualification = preprocessing.LabelEncoder()\n",
    "le_PainQualification.fit([ 'None', 'Low','Medium','High'])\n",
    "X[:,10] = le_PainQualification.transform(X[:,10])\n",
    "\n",
    "le_diarhoea = preprocessing.LabelEncoder()\n",
    "le_diarhoea.fit(['Yes','No'])\n",
    "X[:,11] = le_diarhoea.transform(X[:,11]) \n",
    "\n",
    "le_vomiting = preprocessing.LabelEncoder()\n",
    "le_vomiting.fit(['Yes','No'])\n",
    "X[:,12] = le_vomiting.transform(X[:,12]) \n",
    "\n",
    "le_rateofnausea = preprocessing.LabelEncoder()\n",
    "le_rateofnausea.fit(['None','Normal','Little Bit','So much','Not tolerable'])\n",
    "X[:,13] = le_rateofnausea.transform(X[:,13]) \n",
    "\n",
    "le_migrationpain = preprocessing.LabelEncoder()\n",
    "le_migrationpain.fit(['Yes','No'])\n",
    "X[:,14] = le_migrationpain.transform(X[:,14]) \n",
    "\n",
    "\n",
    "\n",
    "\n",
    "\n",
    "X[0:5]"
   ]
  },
  {
   "cell_type": "code",
   "execution_count": 10,
   "metadata": {},
   "outputs": [
    {
     "data": {
      "text/plain": [
       "0    Yes\n",
       "1    Yes\n",
       "2    Yes\n",
       "3    Yes\n",
       "4    Yes\n",
       "Name: Surgery, dtype: object"
      ]
     },
     "execution_count": 10,
     "metadata": {},
     "output_type": "execute_result"
    }
   ],
   "source": [
    "#output to be predicted\n",
    "y=df['Surgery']\n",
    "y[0:5]"
   ]
  },
  {
   "cell_type": "markdown",
   "metadata": {},
   "source": [
    "<h5>Train-Test Split</h5>"
   ]
  },
  {
   "cell_type": "code",
   "execution_count": 11,
   "metadata": {},
   "outputs": [],
   "source": [
    "from sklearn.model_selection import train_test_split"
   ]
  },
  {
   "cell_type": "code",
   "execution_count": 12,
   "metadata": {},
   "outputs": [],
   "source": [
    "X_trainset, X_testset, y_trainset, y_testset = train_test_split(X, y, test_size=0.3, random_state=3)"
   ]
  },
  {
   "cell_type": "markdown",
   "metadata": {},
   "source": [
    "<h4>Decision Tree</h4>"
   ]
  },
  {
   "cell_type": "code",
   "execution_count": 13,
   "metadata": {},
   "outputs": [],
   "source": [
    "#Decision tree classifier library\n",
    "from sklearn.tree import DecisionTreeClassifier"
   ]
  },
  {
   "cell_type": "code",
   "execution_count": 84,
   "metadata": {},
   "outputs": [
    {
     "data": {
      "text/plain": [
       "DecisionTreeClassifier(class_weight=None, criterion='entropy', max_depth=4,\n",
       "            max_features=None, max_leaf_nodes=None,\n",
       "            min_impurity_decrease=0.0, min_impurity_split=None,\n",
       "            min_samples_leaf=1, min_samples_split=2,\n",
       "            min_weight_fraction_leaf=0.0, presort=False, random_state=None,\n",
       "            splitter='best')"
      ]
     },
     "execution_count": 84,
     "metadata": {},
     "output_type": "execute_result"
    }
   ],
   "source": [
    "surgery = DecisionTreeClassifier(criterion=\"entropy\", max_depth = 4)\n",
    "surgery"
   ]
  },
  {
   "cell_type": "code",
   "execution_count": 85,
   "metadata": {},
   "outputs": [
    {
     "data": {
      "text/plain": [
       "DecisionTreeClassifier(class_weight=None, criterion='entropy', max_depth=4,\n",
       "            max_features=None, max_leaf_nodes=None,\n",
       "            min_impurity_decrease=0.0, min_impurity_split=None,\n",
       "            min_samples_leaf=1, min_samples_split=2,\n",
       "            min_weight_fraction_leaf=0.0, presort=False, random_state=None,\n",
       "            splitter='best')"
      ]
     },
     "execution_count": 85,
     "metadata": {},
     "output_type": "execute_result"
    }
   ],
   "source": [
    "surgery.fit(X_trainset,y_trainset)"
   ]
  },
  {
   "cell_type": "code",
   "execution_count": 86,
   "metadata": {},
   "outputs": [],
   "source": [
    "predTree = surgery.predict(X_testset)"
   ]
  },
  {
   "cell_type": "code",
   "execution_count": 87,
   "metadata": {},
   "outputs": [
    {
     "name": "stdout",
     "output_type": "stream",
     "text": [
      "['Yes' 'Yes' 'No' 'No' 'No']\n",
      "40     Yes\n",
      "51     Yes\n",
      "139     No\n",
      "197     No\n",
      "170     No\n",
      "Name: Surgery, dtype: object\n"
     ]
    }
   ],
   "source": [
    "print (predTree [0:5])\n",
    "print (y_testset [0:5])"
   ]
  },
  {
   "cell_type": "markdown",
   "metadata": {},
   "source": [
    "<h5>Accuracy Metrics for Decision Tree Classifier:</h5>"
   ]
  },
  {
   "cell_type": "code",
   "execution_count": 88,
   "metadata": {},
   "outputs": [],
   "source": [
    "from sklearn.metrics import jaccard_similarity_score\n",
    "from sklearn.metrics import log_loss\n",
    "from sklearn.metrics import f1_score\n",
    "from sklearn import metrics"
   ]
  },
  {
   "cell_type": "code",
   "execution_count": 89,
   "metadata": {},
   "outputs": [
    {
     "name": "stdout",
     "output_type": "stream",
     "text": [
      "Jaccard index: 1.00\n"
     ]
    }
   ],
   "source": [
    "print(\"Jaccard index: %.2f\" % jaccard_similarity_score(y_testset, predTree))"
   ]
  },
  {
   "cell_type": "code",
   "execution_count": 90,
   "metadata": {},
   "outputs": [
    {
     "name": "stdout",
     "output_type": "stream",
     "text": [
      "F1-score: 1.00\n"
     ]
    }
   ],
   "source": [
    "print(\"F1-score: %.2f\" % f1_score(y_testset, predTree, average='weighted') )"
   ]
  },
  {
   "cell_type": "markdown",
   "metadata": {},
   "source": [
    "<h5>Logistic Regression</h5>"
   ]
  },
  {
   "cell_type": "code",
   "execution_count": 70,
   "metadata": {},
   "outputs": [
    {
     "data": {
      "text/plain": [
       "LogisticRegression(C=0.01, class_weight=None, dual=False, fit_intercept=True,\n",
       "          intercept_scaling=1, max_iter=100, multi_class='warn',\n",
       "          n_jobs=None, penalty='l2', random_state=None, solver='liblinear',\n",
       "          tol=0.0001, verbose=0, warm_start=False)"
      ]
     },
     "execution_count": 70,
     "metadata": {},
     "output_type": "execute_result"
    }
   ],
   "source": [
    "#logistic regression library\n",
    "from sklearn.linear_model import LogisticRegression\n",
    "from sklearn.metrics import confusion_matrix\n",
    "LR = LogisticRegression(C=0.01, solver='liblinear').fit(X_trainset,y_trainset)\n",
    "LR"
   ]
  },
  {
   "cell_type": "code",
   "execution_count": 71,
   "metadata": {},
   "outputs": [
    {
     "data": {
      "text/plain": [
       "array(['Yes', 'No', 'No', 'No', 'No'], dtype=object)"
      ]
     },
     "execution_count": 71,
     "metadata": {},
     "output_type": "execute_result"
    }
   ],
   "source": [
    "yhat = LR.predict(X_testset)\n",
    "yhat[0:5]"
   ]
  },
  {
   "cell_type": "code",
   "execution_count": 72,
   "metadata": {},
   "outputs": [
    {
     "data": {
      "text/plain": [
       "array([[0.39076354, 0.60923646],\n",
       "       [0.63763979, 0.36236021],\n",
       "       [0.73933982, 0.26066018],\n",
       "       [0.76802916, 0.23197084],\n",
       "       [0.74913367, 0.25086633]])"
      ]
     },
     "execution_count": 72,
     "metadata": {},
     "output_type": "execute_result"
    }
   ],
   "source": [
    "yhat_prob = LR.predict_proba(X_testset)\n",
    "yhat_prob[0:5]"
   ]
  },
  {
   "cell_type": "markdown",
   "metadata": {},
   "source": [
    "<h5>Accuracy Metrics for Logistic Regression Classifier:</h5>"
   ]
  },
  {
   "cell_type": "code",
   "execution_count": 73,
   "metadata": {},
   "outputs": [
    {
     "name": "stdout",
     "output_type": "stream",
     "text": [
      "Jaccard index: 0.87\n"
     ]
    }
   ],
   "source": [
    "print(\"Jaccard index: %.2f\" % jaccard_similarity_score(y_testset, yhat))"
   ]
  },
  {
   "cell_type": "code",
   "execution_count": 74,
   "metadata": {},
   "outputs": [
    {
     "name": "stdout",
     "output_type": "stream",
     "text": [
      "LogLoss: 0.45\n"
     ]
    }
   ],
   "source": [
    "print(\"LogLoss: %.2f\" % log_loss(y_testset, yhat_prob))"
   ]
  },
  {
   "cell_type": "code",
   "execution_count": 75,
   "metadata": {},
   "outputs": [
    {
     "name": "stdout",
     "output_type": "stream",
     "text": [
      "F1-score: 0.86\n"
     ]
    }
   ],
   "source": [
    "print(\"F1-score: %.2f\" % f1_score(y_testset, yhat, average='weighted') )"
   ]
  },
  {
   "cell_type": "markdown",
   "metadata": {},
   "source": [
    "<h4>K-Nearest Neighbor</h4>\n"
   ]
  },
  {
   "cell_type": "code",
   "execution_count": 51,
   "metadata": {},
   "outputs": [],
   "source": [
    "#importing K-Nearest Neighbor Classifier library\n",
    "from sklearn.neighbors import KNeighborsClassifier"
   ]
  },
  {
   "cell_type": "markdown",
   "metadata": {},
   "source": [
    "<h6>Finding the best value of k for prediction:</h6>"
   ]
  },
  {
   "cell_type": "code",
   "execution_count": 52,
   "metadata": {},
   "outputs": [
    {
     "data": {
      "text/plain": [
       "array([0.93333333, 0.93333333, 0.96666667, 0.96666667, 0.95      ,\n",
       "       0.93333333, 0.93333333, 0.91666667, 0.93333333])"
      ]
     },
     "execution_count": 52,
     "metadata": {},
     "output_type": "execute_result"
    }
   ],
   "source": [
    "Ks = 10\n",
    "mean_acc = np.zeros((Ks-1))\n",
    "std_acc = np.zeros((Ks-1))\n",
    "ConfustionMx = [];\n",
    "for n in range(1,Ks):\n",
    "    \n",
    "    #Train Model and Predict  \n",
    "    neigh = KNeighborsClassifier(n_neighbors = n).fit(X_trainset,y_trainset)\n",
    "    yhat=neigh.predict(X_testset)\n",
    "    mean_acc[n-1] = metrics.accuracy_score(y_testset, yhat)\n",
    "\n",
    "    \n",
    "    std_acc[n-1]=np.std(yhat==y_testset)/np.sqrt(yhat.shape[0])\n",
    "\n",
    "mean_acc"
   ]
  },
  {
   "cell_type": "code",
   "execution_count": 53,
   "metadata": {},
   "outputs": [
    {
     "data": {
      "image/png": "[encoded data removed]",
      "text/plain": [
       "<Figure size 432x288 with 1 Axes>"
      ]
     },
     "metadata": {
      "needs_background": "light"
     },
     "output_type": "display_data"
    }
   ],
   "source": [
    "#Visualizing the different values of k and their accuracy\n",
    "plt.plot(range(1,Ks),mean_acc,'g')\n",
    "plt.fill_between(range(1,Ks),mean_acc - 1 * std_acc,mean_acc + 1 * std_acc, alpha=0.10)\n",
    "plt.legend(('Accuracy ', '+/- 3xstd'))\n",
    "plt.ylabel('Accuracy ')\n",
    "plt.xlabel('Number of Nabors (K)')\n",
    "plt.tight_layout()\n",
    "plt.show()"
   ]
  },
  {
   "cell_type": "code",
   "execution_count": 54,
   "metadata": {},
   "outputs": [
    {
     "name": "stdout",
     "output_type": "stream",
     "text": [
      "The best accuracy was with 0.9666666666666667 with k= 3\n"
     ]
    }
   ],
   "source": [
    "print( \"The best accuracy was with\", mean_acc.max(), \"with k=\", mean_acc.argmax()+1) "
   ]
  },
  {
   "cell_type": "code",
   "execution_count": 55,
   "metadata": {},
   "outputs": [
    {
     "data": {
      "text/plain": [
       "KNeighborsClassifier(algorithm='auto', leaf_size=30, metric='minkowski',\n",
       "           metric_params=None, n_jobs=None, n_neighbors=3, p=2,\n",
       "           weights='uniform')"
      ]
     },
     "execution_count": 55,
     "metadata": {},
     "output_type": "execute_result"
    }
   ],
   "source": [
    "k = 3\n",
    "#Train Model and Predict  \n",
    "neigh = KNeighborsClassifier(n_neighbors = k).fit(X_trainset,y_trainset)\n",
    "neigh"
   ]
  },
  {
   "cell_type": "code",
   "execution_count": 56,
   "metadata": {},
   "outputs": [
    {
     "data": {
      "text/plain": [
       "array(['Yes', 'Yes', 'No', 'No', 'No'], dtype=object)"
      ]
     },
     "execution_count": 56,
     "metadata": {},
     "output_type": "execute_result"
    }
   ],
   "source": [
    "yhat = neigh.predict(X_testset)\n",
    "yhat[0:5]"
   ]
  },
  {
   "cell_type": "markdown",
   "metadata": {},
   "source": [
    "<h5>Accuracy Metrics for K-Nearest Neighbor Classifier:</h5>"
   ]
  },
  {
   "cell_type": "code",
   "execution_count": 57,
   "metadata": {},
   "outputs": [
    {
     "name": "stdout",
     "output_type": "stream",
     "text": [
      "KNN Jaccard index: 0.97\n"
     ]
    }
   ],
   "source": [
    "print(\"Jaccard index: %.2f\" % jaccard_similarity_score(y_testset, yhat))\n"
   ]
  },
  {
   "cell_type": "code",
   "execution_count": 58,
   "metadata": {},
   "outputs": [
    {
     "name": "stdout",
     "output_type": "stream",
     "text": [
      "KNN F1-score: 0.97\n"
     ]
    }
   ],
   "source": [
    "print(\"F1-score: %.2f\" % f1_score(y_testset, yhat, average='weighted') )"
   ]
  },
  {
   "cell_type": "markdown",
   "metadata": {},
   "source": [
    "<h4>Support Vector Machine(SVM)</h4>"
   ]
  },
  {
   "cell_type": "code",
   "execution_count": 63,
   "metadata": {},
   "outputs": [
    {
     "name": "stderr",
     "output_type": "stream",
     "text": [
      "C:\\Users\\Rakshinda Sarah Zama\\Anaconda3\\lib\\site-packages\\sklearn\\svm\\base.py:196: FutureWarning: The default value of gamma will change from 'auto' to 'scale' in version 0.22 to account better for unscaled features. Set gamma explicitly to 'auto' or 'scale' to avoid this warning.\n",
      "  \"avoid this warning.\", FutureWarning)\n"
     ]
    },
    {
     "data": {
      "text/plain": [
       "SVC(C=1.0, cache_size=200, class_weight=None, coef0=0.0,\n",
       "  decision_function_shape='ovr', degree=3, gamma='auto_deprecated',\n",
       "  kernel='rbf', max_iter=-1, probability=False, random_state=None,\n",
       "  shrinking=True, tol=0.001, verbose=False)"
      ]
     },
     "execution_count": 63,
     "metadata": {},
     "output_type": "execute_result"
    }
   ],
   "source": [
    "from sklearn import svm\n",
    "clf = svm.SVC(kernel='rbf')\n",
    "clf.fit(X_trainset, y_trainset) "
   ]
  },
  {
   "cell_type": "code",
   "execution_count": 64,
   "metadata": {},
   "outputs": [
    {
     "data": {
      "text/plain": [
       "array(['Yes', 'Yes', 'No', 'No', 'No'], dtype=object)"
      ]
     },
     "execution_count": 64,
     "metadata": {},
     "output_type": "execute_result"
    }
   ],
   "source": [
    "yhat = clf.predict(X_testset)\n",
    "yhat [0:5]"
   ]
  },
  {
   "cell_type": "markdown",
   "metadata": {},
   "source": [
    "<h5>Accuracy Metrics for SVM:</h5>"
   ]
  },
  {
   "cell_type": "code",
   "execution_count": 67,
   "metadata": {},
   "outputs": [
    {
     "name": "stdout",
     "output_type": "stream",
     "text": [
      "Jaccard index: 0.95\n"
     ]
    }
   ],
   "source": [
    "print(\"Jaccard index: %.2f\" % jaccard_similarity_score(y_testset, yhat))\n"
   ]
  },
  {
   "cell_type": "code",
   "execution_count": 68,
   "metadata": {},
   "outputs": [
    {
     "name": "stdout",
     "output_type": "stream",
     "text": [
      "F1-score: 0.95\n"
     ]
    }
   ],
   "source": [
    "print(\"F1-score: %.2f\" % f1_score(y_testset, yhat, average='weighted') )"
   ]
  },
  {
   "cell_type": "markdown",
   "metadata": {},
   "source": [
    "<h4>Comparison of Classification Model</h4>"
   ]
  },
  {
   "cell_type": "markdown",
   "metadata": {},
   "source": [
    "| Algorithm          | Jaccard | F1-score | LogLoss |\n",
    "|--------------------|---------|----------|---------|\n",
    "| KNN                | 0.97    | 0.97     | NA      |\n",
    "| Decision Tree      | 1.00    | 1.00     | NA      |\n",
    "| SVM                | 0.95    | 0.95     | NA      |\n",
    "| LogisticRegression | 0.87    | 0.45     | 0.86    |"
   ]
  },
  {
   "cell_type": "markdown",
   "metadata": {},
   "source": [
    "<h4>Result:</h4>\n",
    "From the above comparison,we see that the Decision Tree Classifier gives 100% accuracy followed by the K-Nearest Neighbors Classifier with 97% accuracy"
   ]
  },
  {
   "cell_type": "code",
   "execution_count": null,
   "metadata": {},
   "outputs": [],
   "source": []
  }
 ],
 "metadata": {
  "kernelspec": {
   "display_name": "Python 3",
   "language": "python",
   "name": "python3"
  },
  "language_info": {
   "codemirror_mode": {
    "name": "ipython",
    "version": 3
   },
   "file_extension": ".py",
   "mimetype": "text/x-python",
   "name": "python",
   "nbconvert_exporter": "python",
   "pygments_lexer": "ipython3",
   "version": "3.7.1"
  }
 },
 "nbformat": 4,
 "nbformat_minor": 2
}
